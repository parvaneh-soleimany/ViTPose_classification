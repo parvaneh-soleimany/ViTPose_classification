{
 "cells": [
  {
   "cell_type": "markdown",
   "metadata": {},
   "source": [
    "## Import libraries"
   ]
  },
  {
   "cell_type": "code",
   "execution_count": 1,
   "metadata": {
    "id": "1-hUg9_28nzl"
   },
   "outputs": [],
   "source": [
    "import numpy as np\n",
    "import os\n",
    "import tensorflow as tf\n",
    "from sklearn.model_selection import train_test_split\n",
    "from matplotlib import pyplot as plt"
   ]
  },
  {
   "cell_type": "markdown",
   "metadata": {},
   "source": [
    "## Dealing with Data"
   ]
  },
  {
   "cell_type": "code",
   "execution_count": 3,
   "metadata": {
    "id": "d04hs4X1NJYH"
   },
   "outputs": [],
   "source": [
    "# Define a custom dataset for pose classification\n",
    "class PoseDataset(tf.keras.utils.Sequence):\n",
    "    def __init__(self, data_dir):\n",
    "        self.data_dir = data_dir\n",
    "        self.class_names = os.listdir(data_dir)\n",
    "        print(\"class_names:\", self.class_names)\n",
    "        self.file_paths = []\n",
    "        for i, class_name in enumerate(self.class_names):\n",
    "            class_dir = os.path.join(data_dir, class_name)\n",
    "            file_list = os.listdir(class_dir)\n",
    "            self.file_paths += [(os.path.join(class_dir, file), i) for file in file_list]\n",
    "\n",
    "    def __len__(self):\n",
    "        return len(self.file_paths)\n",
    "\n",
    "    def __getitem__(self, idx):\n",
    "        file_path, label = self.file_paths[idx]\n",
    "        sample = np.load(file_path)\n",
    "        return sample, label"
   ]
  },
  {
   "cell_type": "code",
   "execution_count": 4,
   "metadata": {},
   "outputs": [],
   "source": [
    "# Hyperparameters\n",
    "batch_size = 32\n",
    "learning_rate = 0.001\n",
    "num_epochs = 5"
   ]
  },
  {
   "cell_type": "code",
   "execution_count": 5,
   "metadata": {
    "colab": {
     "base_uri": "https://localhost:8080/"
    },
    "id": "VdewV_pINPmq",
    "outputId": "b919ba99-0e35-4405-f3cf-152355c2b108"
   },
   "outputs": [
    {
     "name": "stdout",
     "output_type": "stream",
     "text": [
      "class_names: ['action_down', 'action_inside', 'action_new', 'action_outside', 'action_remove_block', 'action_select_block', 'action_switch', 'action_up', 'block_events_ran', 'category_control', 'category_events', 'category_looks', 'category_motion', 'category_sound', 'dummy', 'select_avatar', 'select_backdrop']\n"
     ]
    }
   ],
   "source": [
    "# Data directory\n",
    "data_dir = 'data'\n",
    "\n",
    "# Create a DataLoader for the dataset\n",
    "dataset = PoseDataset(data_dir)\n",
    "\n",
    "# Split the dataset into training and testing sets\n",
    "train_data, test_data = train_test_split(dataset, test_size=0.2, random_state=42)\n",
    "\n",
    "# Create TensorFlow data loaders\n",
    "train_dataset = tf.data.Dataset.from_generator(\n",
    "    lambda: train_data, (tf.float32, tf.int32), (tf.TensorShape([1, 17, 64, 48]), tf.TensorShape([]))\n",
    ").batch(batch_size).shuffle(buffer_size=len(train_data))\n",
    "\n",
    "test_dataset = tf.data.Dataset.from_generator(\n",
    "    lambda: test_data, (tf.float32, tf.int32), (tf.TensorShape([1, 17, 64, 48]), tf.TensorShape([]))\n",
    ").batch(batch_size)\n"
   ]
  },
  {
   "cell_type": "code",
   "execution_count": 29,
   "metadata": {},
   "outputs": [],
   "source": [
    "# iterator = iter(train_dataset)\n",
    "# element = next(iterator)\n",
    "# print(element)"
   ]
  },
  {
   "cell_type": "markdown",
   "metadata": {},
   "source": [
    "## Model Definition"
   ]
  },
  {
   "cell_type": "code",
   "execution_count": 7,
   "metadata": {
    "id": "iGedMbh0NR0K"
   },
   "outputs": [],
   "source": [
    "# Define a simple CNN model\n",
    "model = tf.keras.models.Sequential([\n",
    "    tf.keras.layers.Conv2D(32, kernel_size=(3, 3), activation='relu', input_shape=(1, 17, 64, 48)),\n",
    "    tf.keras.layers.Flatten(),\n",
    "    tf.keras.layers.Dense(128, activation='relu'),\n",
    "    tf.keras.layers.Dense(17, activation='softmax')\n",
    "])"
   ]
  },
  {
   "cell_type": "code",
   "execution_count": 12,
   "metadata": {
    "id": "1cQ0xhayNT4a"
   },
   "outputs": [],
   "source": [
    "# Compile the model\n",
    "model.compile(optimizer=tf.keras.optimizers.Adam(learning_rate=learning_rate),\n",
    "              loss='sparse_categorical_crossentropy',\n",
    "              metrics=['accuracy'])"
   ]
  },
  {
   "cell_type": "code",
   "execution_count": 13,
   "metadata": {},
   "outputs": [
    {
     "name": "stdout",
     "output_type": "stream",
     "text": [
      "Epoch 1/5\n",
      "1014/1014 [==============================] - 59s 30ms/step - loss: 0.0042 - accuracy: 0.9993\n",
      "Epoch 2/5\n",
      "1014/1014 [==============================] - 53s 31ms/step - loss: 3.3584e-04 - accuracy: 0.9999\n",
      "Epoch 3/5\n",
      "1014/1014 [==============================] - 47s 30ms/step - loss: 2.0086e-06 - accuracy: 1.0000\n",
      "Epoch 4/5\n",
      "1014/1014 [==============================] - 46s 34ms/step - loss: 8.4942e-08 - accuracy: 1.0000\n",
      "Epoch 5/5\n",
      "1014/1014 [==============================] - 39s 31ms/step - loss: 3.6726e-08 - accuracy: 1.0000\n"
     ]
    }
   ],
   "source": [
    "model_history = model.fit(train_dataset, epochs=num_epochs)"
   ]
  },
  {
   "cell_type": "code",
   "execution_count": 26,
   "metadata": {},
   "outputs": [
    {
     "data": {
      "image/png": "[encoded data removed]",
      "text/plain": [
       "<Figure size 432x288 with 1 Axes>"
      ]
     },
     "metadata": {
      "needs_background": "light"
     },
     "output_type": "display_data"
    }
   ],
   "source": [
    "# Visualize the training history\n",
    "plt.plot(model_history.history['accuracy'])\n",
    "plt.title('Model accuracy')\n",
    "plt.ylabel('accuracy')\n",
    "plt.xlabel('epoch')\n",
    "plt.legend(['TRAIN'], loc='lower right')\n",
    "plt.show()"
   ]
  },
  {
   "cell_type": "markdown",
   "metadata": {},
   "source": [
    "## Model Evaluation on Test set"
   ]
  },
  {
   "cell_type": "code",
   "execution_count": 28,
   "metadata": {},
   "outputs": [
    {
     "name": "stdout",
     "output_type": "stream",
     "text": [
      "254/254 [==============================] - 5s 19ms/step - loss: 1.3163e-06 - accuracy: 1.0000\n",
      "Test Accuracy: 100.00%\n"
     ]
    }
   ],
   "source": [
    "# Evaluate the model on the test data\n",
    "test_loss, test_accuracy = model.evaluate(test_dataset)\n",
    "print(f'Test Accuracy: {test_accuracy * 100:.2f}%')"
   ]
  },
  {
   "cell_type": "markdown",
   "metadata": {},
   "source": [
    "## Save the model"
   ]
  },
  {
   "cell_type": "code",
   "execution_count": 27,
   "metadata": {},
   "outputs": [],
   "source": [
    "# Save the model to disk\n",
    "model.save('trained_model.h5')"
   ]
  }
 ],
 "metadata": {
  "colab": {
   "provenance": []
  },
  "kernelspec": {
   "display_name": "Python 3 (ipykernel)",
   "language": "python",
   "name": "python3"
  },
  "language_info": {
   "codemirror_mode": {
    "name": "ipython",
    "version": 3
   },
   "file_extension": ".py",
   "mimetype": "text/x-python",
   "name": "python",
   "nbconvert_exporter": "python",
   "pygments_lexer": "ipython3",
   "version": "3.9.12"
  }
 },
 "nbformat": 4,
 "nbformat_minor": 1
}
