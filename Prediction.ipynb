{
 "cells": [
  {
   "cell_type": "code",
   "execution_count": 1,
   "id": "e89807c7",
   "metadata": {},
   "outputs": [],
   "source": [
    "from keras.models import load_model\n",
    "import tensorflow as tf\n",
    "import os\n",
    "import numpy as np"
   ]
  },
  {
   "cell_type": "code",
   "execution_count": 2,
   "id": "25230d32",
   "metadata": {},
   "outputs": [],
   "source": [
    "class UnseenDataset(tf.keras.utils.Sequence):\n",
    "    def __init__(self, data_dir):\n",
    "        self.data_dir = data_dir\n",
    "        self.file_paths = []\n",
    "        for root, _, files in os.walk(data_dir):\n",
    "            for file in files:\n",
    "                if file.endswith('.npy'):\n",
    "                    self.file_paths.append(os.path.join(root, file))\n",
    "            \n",
    "    def __len__(self):\n",
    "        return len(self.file_paths)\n",
    "    \n",
    "    def __getitem__(self, idx):\n",
    "        file_path = self.file_paths[idx]\n",
    "        sample = np.load(file_path)\n",
    "        return sample\n"
   ]
  },
  {
   "cell_type": "code",
   "execution_count": 3,
   "id": "d9c9deaf",
   "metadata": {},
   "outputs": [],
   "source": [
    "# Unseen_Data directory\n",
    "# I put 3 files in the directory to see the results\n",
    "data_dir = 'unseen_data'\n",
    "\n",
    "# Create a DataLoader for the dataset\n",
    "dataset = UnseenDataset(data_dir)\n",
    "\n",
    "# Create TensorFlow data loaders\n",
    "unseen_dataset = tf.data.Dataset.from_generator(\n",
    "    lambda: dataset, (tf.float32), (tf.TensorShape([1, 17, 64, 48]))).batch(1)\n"
   ]
  },
  {
   "cell_type": "code",
   "execution_count": 6,
   "id": "b71c3e16",
   "metadata": {},
   "outputs": [],
   "source": [
    "class_names = ['action_down', 'action_inside', 'action_new', 'action_outside', 'action_remove_block', 'action_select_block', 'action_switch', 'action_up', 'block_events_ran', 'category_control', 'category_events', 'category_looks', 'category_motion', 'category_sound', 'dummy', 'select_avatar', 'select_backdrop']"
   ]
  },
  {
   "cell_type": "code",
   "execution_count": 4,
   "id": "2eb1e43f",
   "metadata": {},
   "outputs": [],
   "source": [
    "model = load_model('trained_model.h5')"
   ]
  },
  {
   "cell_type": "code",
   "execution_count": 5,
   "id": "73c4c3ca",
   "metadata": {},
   "outputs": [
    {
     "name": "stdout",
     "output_type": "stream",
     "text": [
      "3/3 [==============================] - 1s 303ms/step\n"
     ]
    }
   ],
   "source": [
    "predictions = model.predict(unseen_dataset)"
   ]
  },
  {
   "cell_type": "code",
   "execution_count": 7,
   "id": "53ee1b51",
   "metadata": {},
   "outputs": [
    {
     "data": {
      "text/plain": [
       "['action_inside', 'block_events_ran', 'select_avatar']"
      ]
     },
     "execution_count": 7,
     "metadata": {},
     "output_type": "execute_result"
    }
   ],
   "source": [
    "predicted_class = [class_names[np.argmax(p)] for p in predictions]\n",
    "predicted_class"
   ]
  }
 ],
 "metadata": {
  "kernelspec": {
   "display_name": "Python 3 (ipykernel)",
   "language": "python",
   "name": "python3"
  },
  "language_info": {
   "codemirror_mode": {
    "name": "ipython",
    "version": 3
   },
   "file_extension": ".py",
   "mimetype": "text/x-python",
   "name": "python",
   "nbconvert_exporter": "python",
   "pygments_lexer": "ipython3",
   "version": "3.9.12"
  }
 },
 "nbformat": 4,
 "nbformat_minor": 5
}
